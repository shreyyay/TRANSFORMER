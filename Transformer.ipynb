{
 "cells": [
  {
   "cell_type": "code",
   "execution_count": 2,
   "metadata": {},
   "outputs": [
    {
     "data": {
      "text/plain": [
       "<torch._C.Generator at 0x7f78e8095d90>"
      ]
     },
     "execution_count": 2,
     "metadata": {},
     "output_type": "execute_result"
    }
   ],
   "source": [
    "import torch\n",
    "import torch.nn as nn\n",
    "import torch.nn.functional as F\n",
    "import torch.optim as optim\n",
    "import math\n",
    "\n",
    "torch.manual_seed(1)"
   ]
  },
  {
   "cell_type": "markdown",
   "metadata": {},
   "source": [
    "#Word Embedding:"
   ]
  },
  {
   "cell_type": "code",
   "execution_count": 3,
   "metadata": {},
   "outputs": [],
   "source": [
    "class Embedder(nn.Module):\n",
    "    def __init__(self, vocab_size, model_dim):\n",
    "        super().__init__()\n",
    "        \n",
    "        self.embed = nn.Embedding(vocab_size, model_dim)\n",
    "    \n",
    "    def forward(self, X):\n",
    "        return self.embed(X)"
   ]
  },
  {
   "cell_type": "markdown",
   "metadata": {},
   "source": [
    "#Positional Encoding:"
   ]
  },
  {
   "cell_type": "code",
   "execution_count": 4,
   "metadata": {},
   "outputs": [],
   "source": [
    "class PositonalEncoder(nn.Module):\n",
    "    def __init__(self, model_dim, max_seq_len = 80):\n",
    "        super().__init()\n",
    "        \n",
    "        self.model_dim = model_dim\n",
    "        \n",
    "        pe = torch.zeros(max_seq_len, model_dim)\n",
    "        \n",
    "        for pos in range (max_seq_len):\n",
    "            for i in range(0, model_dim, 2):\n",
    "                pe[pos,i] = math.sin(pos/10000**((2*i)/model_dim))\n",
    "                pe[pos, i+1] = math.cos(pos/10000**((2*(i+1))/model_dim))\n",
    "                \n",
    "        pe = pe.unsqueeze(0)\n",
    "        self.register_buffer('pe', pe)\n",
    "        \n",
    "    def forward(self, X):\n",
    "        \n",
    "        \n",
    "        \n",
    "        seq_len = X.size(1)\n",
    "        \n",
    "        X = X + torch.tensor(self.pe[:,:seq_len], requires_grad=False)\n",
    "        return X\n",
    "        \n",
    "                                     "
   ]
  },
  {
   "cell_type": "markdown",
   "metadata": {},
   "source": [
    "#Multi-headed attention"
   ]
  },
  {
   "cell_type": "code",
   "execution_count": 5,
   "metadata": {},
   "outputs": [],
   "source": [
    "class MultiHeadedAttention(nn.Module):\n",
    "    def __init__(self, heads, model_dim, dropout = 0.1):\n",
    "        super.__init__()\n",
    "        \n",
    "        self.model_dim = model_dim\n",
    "        self.d_k = model_dim//heads\n",
    "        self.h = heads\n",
    "        \n",
    "        self.q_linear = nn.Linear(model_dim, model_dim,bias=False)\n",
    "        self.k_linear = nn.Linear(model_dim, model_dim,bias=False)\n",
    "        self.v_linear = nn.Linear(model_dim,model_dim,bias=False)\n",
    "        self.dropout  = nn.Dropout(dropout)\n",
    "        self.out  = nn.Linear(model_dim,model_dim,bias=False)\n",
    "        \n",
    "    def forward(self, q,k,v):\n",
    "        \n",
    "        \n",
    "        bs = q.size(0)\n",
    "        \n",
    "        # perform linear operation and split into h heads\n",
    "        \n",
    "        k = self.k_linear(k).view(bs, -1, self.h, self.d_k)\n",
    "        q = self.q_linear(q).view(bs, -1, self.h, self.d_k)\n",
    "        v = self.v_linear(v).view(bs, -1, self.h, self.d_k)\n",
    "        \n",
    "        \n",
    "       \n",
    "        k = k.transpose(1,2)\n",
    "        q = q.transpose(1,2)\n",
    "        v = v.transpose(1,2)\n",
    "        \n",
    "        scores = attention(q, k, v, self.d_k, self.dropout)\n",
    "        \n",
    "        # concatenate heads and put through final linear layer\n",
    "        concat = scores.transpose(1,2).contiguous().view(bs, -1, self.model_dim)\n",
    "        \n",
    "        output = self.out(concat)\n",
    "    \n",
    "        return output\n"
   ]
  },
  {
   "cell_type": "markdown",
   "metadata": {},
   "source": [
    "#Feed forward sublayer"
   ]
  },
  {
   "cell_type": "code",
   "execution_count": 6,
   "metadata": {},
   "outputs": [],
   "source": [
    "class FeedForward(nn.Module):\n",
    "    def __init__(self, model_dim, d_ff=2048, dropout = 0.1):\n",
    "        super().__init__() \n",
    "        # We set d_ff as a default to 2048\n",
    "        self.linear_1 = nn.Linear(model_dim, d_ff)\n",
    "        self.dropout = nn.Dropout(dropout)\n",
    "        self.linear_2 = nn.Linear(d_ff, model_dim)\n",
    "    def forward(self, x):\n",
    "        x = self.dropout(F.relu(self.linear_1(x)))\n",
    "        x = self.linear_2(x)\n",
    "        return x"
   ]
  },
  {
   "cell_type": "markdown",
   "metadata": {},
   "source": [
    "#Normalization"
   ]
  },
  {
   "cell_type": "code",
   "execution_count": 7,
   "metadata": {},
   "outputs": [],
   "source": [
    "class Norm(nn.Module):\n",
    "    def __init__(self, model_dim, eps = 1e-6):\n",
    "        super().__init__()\n",
    "    \n",
    "        self.size = model_dim\n",
    "        # create two learnable parameters to calibrate normalisation\n",
    "        self.alpha = nn.Parameter(torch.ones(self.size))\n",
    "        self.bias = nn.Parameter(torch.zeros(self.size))\n",
    "        self.eps = eps\n",
    "    def forward(self, x):\n",
    "        norm = self.alpha * (x - x.mean(dim=-1, keepdim=True)) /(x.std(dim=-1, keepdim=True) + self.eps) + self.bias\n",
    "        return norm"
   ]
  },
  {
   "cell_type": "markdown",
   "metadata": {},
   "source": [
    "#Encoder layer"
   ]
  },
  {
   "cell_type": "code",
   "execution_count": 8,
   "metadata": {},
   "outputs": [],
   "source": [
    "class EncoderLayer(nn.Module):\n",
    "    def __init__(self, model_dim, heads, dropout = 0.1):\n",
    "        super().__init__()\n",
    "        self.norm_1 = Norm(model_dim)\n",
    "        self.norm_2 = Norm(model_dim)\n",
    "        self.attn = MultiHeadAttention(heads, model_dim)\n",
    "        self.ff = FeedForward(model_dim)\n",
    "        self.dropout_1 = nn.Dropout(dropout)\n",
    "        self.dropout_2 = nn.Dropout(dropout)\n",
    "        \n",
    "    def forward(self, x):\n",
    "        x2 = self.norm_1(x)\n",
    "        x = x + self.dropout_1(self.attn(x2,x2,x2))\n",
    "        x2 = self.norm_2(x)\n",
    "        x = x + self.dropout_2(self.ff(x2))\n",
    "        return x"
   ]
  },
  {
   "cell_type": "markdown",
   "metadata": {},
   "source": [
    "#Decoder layer"
   ]
  },
  {
   "cell_type": "code",
   "execution_count": 9,
   "metadata": {},
   "outputs": [],
   "source": [
    "class DecoderLayer(nn.Module):\n",
    "    def __init__(self, model_dim,heads, dropout=0.1):\n",
    "        super().__init__()\n",
    "        self.norm_1 = Norm(model_dim)\n",
    "        self.norm_2 = Norm(model_dim)\n",
    "        self.norm_3 = Norm(model_dim)\n",
    "        \n",
    "        self.dropout_1 = nn.Dropout(dropout)\n",
    "        self.dropout_2 = nn.Dropout(dropout)\n",
    "        self.dropout_3 = nn.Dropout(dropout)\n",
    "        \n",
    "        self.attn_1 = MultiHeadAttention(heads, model_dim)\n",
    "        self.attn_2 = MultiHeadAttention(heads, model_dim)\n",
    "        self.ff = FeedForward(model_dim)\n",
    "    def forward(self, x, e_outputs):\n",
    "        x2 = self.norm_1(x)\n",
    "        x = x + self.dropout_1(self.attn_1(x2, x2, x2))\n",
    "        x2 = self.norm_2(x)\n",
    "        x = x + self.dropout_2(self.attn_2(x2, e_outputs, e_outputs))\n",
    "        x2 = self.norm_3(x)\n",
    "        x = x + self.dropout_3(self.ff(x2))\n",
    "        return x"
   ]
  },
  {
   "cell_type": "code",
   "execution_count": 10,
   "metadata": {},
   "outputs": [],
   "source": [
    "def attention(q, k, v, d_k, dropout=None):\n",
    "        \n",
    "        scores = torch.matmul(q, k.transpose(-2, -1)) /  math.sqrt(d_k)\n",
    "        scores = F.softmax(scores, dim=-1)\n",
    "        output = torch.matmul(scores, v)\n",
    "        return output"
   ]
  },
  {
   "cell_type": "code",
   "execution_count": 11,
   "metadata": {},
   "outputs": [],
   "source": [
    "class Encoder(nn.Module):\n",
    "    def __init__(self, vocab_size, model_dim,heads):\n",
    "        super().__init__()\n",
    "        \n",
    "        self.embed = Embedder(vocab_size, model_dim)\n",
    "        self.pe = PositionalEncoder(model_dim)\n",
    "        self.encode = EncoderLayer(model_dim, heads)\n",
    "        self.norm = Norm(model_dim)\n",
    "    def forward(self, src):\n",
    "        x = self.embed(src)\n",
    "        x = self.pe(x)\n",
    "        x = self.encode(x)\n",
    "        return self.norm(x)\n",
    "    "
   ]
  },
  {
   "cell_type": "code",
   "execution_count": 12,
   "metadata": {},
   "outputs": [],
   "source": [
    "class Decoder(nn.Module):\n",
    "    def __init__(self, vocab_size, model_dim,heads):\n",
    "        super().__init__()\n",
    "        self.embed = Embedder(vocab_size, model_dim)\n",
    "        self.pe = PositionalEncoder(model_dim)\n",
    "        self.decode = DecoderLayer(model_dim, heads)\n",
    "        self.norm = Norm(model_dim)\n",
    "    def forward(self, trg, e_outputs):\n",
    "        x = self.embed(trg)\n",
    "        x = self.pe(x)\n",
    "        x = self.decode(x, e_outputs)\n",
    "        return self.norm(x)"
   ]
  },
  {
   "cell_type": "code",
   "execution_count": 13,
   "metadata": {},
   "outputs": [],
   "source": [
    "class Transformer(nn.Module):\n",
    "    def __init__(self, src_vocab, trg_vocab, model_dim,heads):\n",
    "        super().__init__()\n",
    "        self.encoder = Encoder(src_vocab, model_dim,heads)\n",
    "        self.decoder = Decoder(trg_vocab, model_dim,heads)\n",
    "        self.out = nn.Linear(model_dim, trg_vocab)\n",
    "    def forward(self, src, trg):\n",
    "        e_outputs = self.encoder(src)\n",
    "        d_output = self.decoder(trg, e_outputs)\n",
    "        output = self.out(d_output)\n",
    "        return output"
   ]
  }
 ],
 "metadata": {
  "kernelspec": {
   "display_name": "Python 3",
   "language": "python",
   "name": "python3"
  },
  "language_info": {
   "codemirror_mode": {
    "name": "ipython",
    "version": 3
   },
   "file_extension": ".py",
   "mimetype": "text/x-python",
   "name": "python",
   "nbconvert_exporter": "python",
   "pygments_lexer": "ipython3",
   "version": "3.6.5"
  }
 },
 "nbformat": 4,
 "nbformat_minor": 2
}
